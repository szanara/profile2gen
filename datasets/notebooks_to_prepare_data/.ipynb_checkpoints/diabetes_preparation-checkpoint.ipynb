{
 "cells": [
  {
   "cell_type": "code",
   "execution_count": 2,
   "id": "d255549a-7e27-49b4-88e5-f4edc4649ece",
   "metadata": {},
   "outputs": [],
   "source": [
    "import pandas as pd\n",
    "import numpy as np\n",
    "import os\n",
    "from sklearn.model_selection import train_test_split"
   ]
  },
  {
   "cell_type": "code",
   "execution_count": 3,
   "id": "9d14a21d-ba4e-4021-9428-e63ae7b0cf1a",
   "metadata": {},
   "outputs": [],
   "source": [
    "dir2save = '/home/cz/mds3/data-centric/datasets/'"
   ]
  },
  {
   "cell_type": "code",
   "execution_count": 4,
   "id": "735c3fac-e84f-4822-8fb3-96c4376e8bde",
   "metadata": {},
   "outputs": [],
   "source": [
    "dir2read =  '/home/cz/mds3/data-centric/datasets/news_correct/'"
   ]
  },
  {
   "cell_type": "code",
   "execution_count": 5,
   "id": "07daaa90-6459-457c-9b39-7f71def9b446",
   "metadata": {},
   "outputs": [],
   "source": [
    "name2save= os.path.join(dir2save, 'prepared/diabetes')"
   ]
  },
  {
   "cell_type": "code",
   "execution_count": 6,
   "id": "0a3cae6c-7771-4450-935a-3b887926182b",
   "metadata": {},
   "outputs": [],
   "source": [
    "os.makedirs(name2save, exist_ok=True)"
   ]
  },
  {
   "cell_type": "code",
   "execution_count": 7,
   "id": "8e8332d7-1b2d-4b82-8cd1-aa826b253244",
   "metadata": {},
   "outputs": [],
   "source": [
    "def read_arf_file(arf_file_path):\n",
    "    data = []\n",
    "    with open(arf_file_path, 'r', encoding='utf-8') as file:\n",
    "        for line in file:\n",
    "            # Processar cada linha conforme necessário\n",
    "            # Aqui, apenas adicionando cada linha aos dados\n",
    "            data.append(line.strip())\n",
    "    return data\n"
   ]
  },
  {
   "cell_type": "code",
   "execution_count": 8,
   "id": "487436ce-6e69-41cb-9d78-c918028db811",
   "metadata": {},
   "outputs": [],
   "source": [
    "# Exemplo de uso\n",
    "arf_data = read_arf_file(dir2read+\"dataset_2198_diabetes_numeric.arff\")"
   ]
  },
  {
   "cell_type": "code",
   "execution_count": 19,
   "id": "8f5fb807-5026-4751-85a3-80215cdca69e",
   "metadata": {},
   "outputs": [],
   "source": [
    "prior_data = arf_data[16:]"
   ]
  },
  {
   "cell_type": "code",
   "execution_count": 22,
   "id": "71338dd0-c296-463d-be95-ce46726af281",
   "metadata": {},
   "outputs": [],
   "source": [
    "attributes = prior_data[:3]"
   ]
  },
  {
   "cell_type": "code",
   "execution_count": 26,
   "id": "76577df3-712c-4ab9-a67b-c26bc0b1aa6c",
   "metadata": {},
   "outputs": [],
   "source": [
    "data = prior_data[5:]"
   ]
  },
  {
   "cell_type": "code",
   "execution_count": 27,
   "id": "3ed7647b-9f04-42ff-b2b1-e9b550256189",
   "metadata": {},
   "outputs": [],
   "source": [
    "columns_extracted = []\n",
    "\n",
    "# Analise cada string na lista de atributos\n",
    "for attribute in attributes:\n",
    "    # Separe o nome do atributo e o tipo de dados\n",
    "    parts = attribute.split()\n",
    "    #print(parts)\n",
    "    attribute_name = parts[1]\n",
    "    data_type = parts[2]\n",
    "    columns_extracted.append(attribute_name)"
   ]
  },
  {
   "cell_type": "code",
   "execution_count": 28,
   "id": "d5463e7e-9fe0-46e0-ae89-fa4773a72fcf",
   "metadata": {},
   "outputs": [],
   "source": [
    "new_data = []\n",
    "for i in range(len(data)-1):\n",
    "    new_data.append(data[i].split(','))"
   ]
  },
  {
   "cell_type": "code",
   "execution_count": 29,
   "id": "53a9911a-7ccc-4584-98be-85bac423cbea",
   "metadata": {},
   "outputs": [],
   "source": [
    "new_data = [obtained for obtained in new_data if '?' not in obtained]\n"
   ]
  },
  {
   "cell_type": "code",
   "execution_count": 30,
   "id": "047c1b01-6b84-44b3-9e5b-2506b4452c92",
   "metadata": {},
   "outputs": [],
   "source": [
    "new_data = np.array(new_data)"
   ]
  },
  {
   "cell_type": "code",
   "execution_count": 31,
   "id": "057bfd09-2cb4-4fb4-b57f-6db088a5f631",
   "metadata": {},
   "outputs": [],
   "source": [
    "new_datafloat = [[float(info) for info in obtained] for obtained in new_data]"
   ]
  },
  {
   "cell_type": "code",
   "execution_count": 32,
   "id": "e24d859b-5127-42c7-b2a4-5c83bc8eb36c",
   "metadata": {},
   "outputs": [],
   "source": [
    "new_datafloat = np.array(new_datafloat)"
   ]
  },
  {
   "cell_type": "code",
   "execution_count": 33,
   "id": "a74d6aeb-1b9d-46c8-9904-9fa46f51e066",
   "metadata": {},
   "outputs": [
    {
     "data": {
      "text/plain": [
       "(42, 3)"
      ]
     },
     "execution_count": 33,
     "metadata": {},
     "output_type": "execute_result"
    }
   ],
   "source": [
    "new_datafloat.shape"
   ]
  },
  {
   "cell_type": "code",
   "execution_count": 34,
   "id": "e12feda0-e724-440b-8af6-179e4a4b068a",
   "metadata": {
    "scrolled": true
   },
   "outputs": [
    {
     "data": {
      "text/plain": [
       "array([[  5.2,  -8.1,   4.8],\n",
       "       [  8.8, -16.1,   4.1],\n",
       "       [ 10.5,  -0.9,   5.2],\n",
       "       [ 10.6,  -7.8,   5.5],\n",
       "       [ 10.4, -29. ,   5. ],\n",
       "       [  1.8, -19.2,   3.4],\n",
       "       [ 12.7, -18.9,   3.4],\n",
       "       [ 15.6, -10.6,   4.9],\n",
       "       [  5.8,  -2.8,   5.6],\n",
       "       [  1.9, -25. ,   3.7],\n",
       "       [  2.2,  -3.1,   3.9],\n",
       "       [  4.8,  -7.8,   4.5],\n",
       "       [  7.9, -13.9,   4.8],\n",
       "       [  5.2,  -4.5,   4.9],\n",
       "       [  0.9, -11.6,   3. ],\n",
       "       [ 11.8,  -2.1,   4.6],\n",
       "       [  7.9,  -2. ,   4.8],\n",
       "       [ 11.5,  -9. ,   5.5],\n",
       "       [ 10.6, -11.2,   4.5],\n",
       "       [  8.5,  -0.2,   5.3],\n",
       "       [ 11.1,  -6.1,   4.7],\n",
       "       [ 12.8,  -1. ,   6.6],\n",
       "       [ 11.3,  -3.6,   5.1],\n",
       "       [  1. ,  -8.2,   3.9],\n",
       "       [ 14.5,  -0.5,   5.7],\n",
       "       [ 11.9,  -2. ,   5.1],\n",
       "       [  8.1,  -1.6,   5.2],\n",
       "       [ 13.8, -11.9,   3.7],\n",
       "       [ 15.5,  -0.7,   4.9],\n",
       "       [  9.8,  -1.2,   4.8],\n",
       "       [ 11. , -14.3,   4.4],\n",
       "       [ 12.4,  -0.8,   5.2],\n",
       "       [ 11.1, -16.8,   5.1],\n",
       "       [  5.1,  -5.1,   4.6],\n",
       "       [  4.8,  -9.5,   3.9],\n",
       "       [  4.2, -17. ,   5.1],\n",
       "       [  6.9,  -3.3,   5.1],\n",
       "       [ 13.2,  -0.7,   6. ],\n",
       "       [  9.9,  -3.3,   4.9],\n",
       "       [ 12.5, -13.6,   4.1],\n",
       "       [ 13.2,  -1.9,   4.6],\n",
       "       [  8.9, -10. ,   4.9]])"
      ]
     },
     "execution_count": 34,
     "metadata": {},
     "output_type": "execute_result"
    }
   ],
   "source": [
    "new_datafloat"
   ]
  },
  {
   "cell_type": "code",
   "execution_count": 35,
   "id": "f71bbbb9-ce2b-436b-b238-8975151ad46b",
   "metadata": {},
   "outputs": [],
   "source": [
    "columns_extracted = np.array(list(set(columns_extracted)))"
   ]
  },
  {
   "cell_type": "code",
   "execution_count": 37,
   "id": "19bb2179-7572-45e7-8de6-25f133c06498",
   "metadata": {},
   "outputs": [],
   "source": [
    "columns_extracted = [element.split('\"')[0] for element in columns_extracted]"
   ]
  },
  {
   "cell_type": "code",
   "execution_count": 38,
   "id": "9c2ae6ae-d8cc-454f-8c14-6a0b5f1b0348",
   "metadata": {},
   "outputs": [
    {
     "name": "stdout",
     "output_type": "stream",
     "text": [
      "['deficit', 'c_peptide', 'age']\n"
     ]
    }
   ],
   "source": [
    "import re\n",
    "\n",
    "def remover_aspas(lista):\n",
    "  \"\"\"\n",
    "  Remove aspas duplas e simples de cada string da lista.\n",
    "\n",
    "  Argumentos:\n",
    "    lista: A lista de strings.\n",
    "\n",
    "  Retorna:\n",
    "    Uma nova lista com as strings sem aspas.\n",
    "  \"\"\"\n",
    "  nova_lista = []\n",
    "  for item in lista:\n",
    "    # Substitui aspas duplas e simples por string vazia\n",
    "    sem_aspas = re.sub(r'[\"\\']', '', item)\n",
    "    nova_lista.append(sem_aspas)\n",
    "  return nova_lista\n",
    "\n",
    "\n",
    "lista_sem_aspas = remover_aspas(columns_extracted)\n",
    "print(lista_sem_aspas)  # Resultado: ['sex', 'trestbps', 'cp', 'fbs', 'thal', 'slope', 'ca', 'oldpeak', 'restecg', 'num', 'chol', 'exang', 'thalach', 'age']\n"
   ]
  },
  {
   "cell_type": "code",
   "execution_count": 40,
   "id": "13add627-813b-49cc-b3ab-21effae7f93a",
   "metadata": {},
   "outputs": [],
   "source": [
    "df= pd.DataFrame(new_datafloat, columns = lista_sem_aspas)"
   ]
  },
  {
   "cell_type": "code",
   "execution_count": 41,
   "id": "8847cc71-73d9-4910-8e91-c4d74df5db26",
   "metadata": {},
   "outputs": [],
   "source": [
    "df = df.rename(columns={'c_peptide':'target'})"
   ]
  },
  {
   "cell_type": "code",
   "execution_count": 42,
   "id": "b83175ea-ac2d-4e9b-8bf6-16a9e80b152b",
   "metadata": {},
   "outputs": [],
   "source": [
    "df_train, df_test = train_test_split(df, test_size=0.33, random_state=42)"
   ]
  },
  {
   "cell_type": "code",
   "execution_count": 43,
   "id": "debba1cd-44cc-42cf-8bab-d4835c2008fb",
   "metadata": {},
   "outputs": [
    {
     "data": {
      "text/plain": [
       "((28, 3), (14, 3))"
      ]
     },
     "execution_count": 43,
     "metadata": {},
     "output_type": "execute_result"
    }
   ],
   "source": [
    "df_train.shape, df_test.shape"
   ]
  },
  {
   "cell_type": "code",
   "execution_count": 44,
   "id": "8b7a5f58-cb8a-4b1b-9dca-859ba86140c1",
   "metadata": {
    "scrolled": true
   },
   "outputs": [
    {
     "data": {
      "text/html": [
       "<div>\n",
       "<style scoped>\n",
       "    .dataframe tbody tr th:only-of-type {\n",
       "        vertical-align: middle;\n",
       "    }\n",
       "\n",
       "    .dataframe tbody tr th {\n",
       "        vertical-align: top;\n",
       "    }\n",
       "\n",
       "    .dataframe thead th {\n",
       "        text-align: right;\n",
       "    }\n",
       "</style>\n",
       "<table border=\"1\" class=\"dataframe\">\n",
       "  <thead>\n",
       "    <tr style=\"text-align: right;\">\n",
       "      <th></th>\n",
       "      <th>deficit</th>\n",
       "      <th>target</th>\n",
       "      <th>age</th>\n",
       "    </tr>\n",
       "  </thead>\n",
       "  <tbody>\n",
       "    <tr>\n",
       "      <th>0</th>\n",
       "      <td>5.2</td>\n",
       "      <td>-8.1</td>\n",
       "      <td>4.8</td>\n",
       "    </tr>\n",
       "    <tr>\n",
       "      <th>1</th>\n",
       "      <td>8.8</td>\n",
       "      <td>-16.1</td>\n",
       "      <td>4.1</td>\n",
       "    </tr>\n",
       "    <tr>\n",
       "      <th>2</th>\n",
       "      <td>10.5</td>\n",
       "      <td>-0.9</td>\n",
       "      <td>5.2</td>\n",
       "    </tr>\n",
       "    <tr>\n",
       "      <th>3</th>\n",
       "      <td>10.6</td>\n",
       "      <td>-7.8</td>\n",
       "      <td>5.5</td>\n",
       "    </tr>\n",
       "    <tr>\n",
       "      <th>4</th>\n",
       "      <td>10.4</td>\n",
       "      <td>-29.0</td>\n",
       "      <td>5.0</td>\n",
       "    </tr>\n",
       "    <tr>\n",
       "      <th>5</th>\n",
       "      <td>1.8</td>\n",
       "      <td>-19.2</td>\n",
       "      <td>3.4</td>\n",
       "    </tr>\n",
       "    <tr>\n",
       "      <th>6</th>\n",
       "      <td>12.7</td>\n",
       "      <td>-18.9</td>\n",
       "      <td>3.4</td>\n",
       "    </tr>\n",
       "    <tr>\n",
       "      <th>7</th>\n",
       "      <td>15.6</td>\n",
       "      <td>-10.6</td>\n",
       "      <td>4.9</td>\n",
       "    </tr>\n",
       "    <tr>\n",
       "      <th>8</th>\n",
       "      <td>5.8</td>\n",
       "      <td>-2.8</td>\n",
       "      <td>5.6</td>\n",
       "    </tr>\n",
       "    <tr>\n",
       "      <th>9</th>\n",
       "      <td>1.9</td>\n",
       "      <td>-25.0</td>\n",
       "      <td>3.7</td>\n",
       "    </tr>\n",
       "    <tr>\n",
       "      <th>10</th>\n",
       "      <td>2.2</td>\n",
       "      <td>-3.1</td>\n",
       "      <td>3.9</td>\n",
       "    </tr>\n",
       "    <tr>\n",
       "      <th>11</th>\n",
       "      <td>4.8</td>\n",
       "      <td>-7.8</td>\n",
       "      <td>4.5</td>\n",
       "    </tr>\n",
       "    <tr>\n",
       "      <th>12</th>\n",
       "      <td>7.9</td>\n",
       "      <td>-13.9</td>\n",
       "      <td>4.8</td>\n",
       "    </tr>\n",
       "    <tr>\n",
       "      <th>13</th>\n",
       "      <td>5.2</td>\n",
       "      <td>-4.5</td>\n",
       "      <td>4.9</td>\n",
       "    </tr>\n",
       "    <tr>\n",
       "      <th>14</th>\n",
       "      <td>0.9</td>\n",
       "      <td>-11.6</td>\n",
       "      <td>3.0</td>\n",
       "    </tr>\n",
       "    <tr>\n",
       "      <th>15</th>\n",
       "      <td>11.8</td>\n",
       "      <td>-2.1</td>\n",
       "      <td>4.6</td>\n",
       "    </tr>\n",
       "    <tr>\n",
       "      <th>16</th>\n",
       "      <td>7.9</td>\n",
       "      <td>-2.0</td>\n",
       "      <td>4.8</td>\n",
       "    </tr>\n",
       "    <tr>\n",
       "      <th>17</th>\n",
       "      <td>11.5</td>\n",
       "      <td>-9.0</td>\n",
       "      <td>5.5</td>\n",
       "    </tr>\n",
       "    <tr>\n",
       "      <th>18</th>\n",
       "      <td>10.6</td>\n",
       "      <td>-11.2</td>\n",
       "      <td>4.5</td>\n",
       "    </tr>\n",
       "    <tr>\n",
       "      <th>19</th>\n",
       "      <td>8.5</td>\n",
       "      <td>-0.2</td>\n",
       "      <td>5.3</td>\n",
       "    </tr>\n",
       "    <tr>\n",
       "      <th>20</th>\n",
       "      <td>11.1</td>\n",
       "      <td>-6.1</td>\n",
       "      <td>4.7</td>\n",
       "    </tr>\n",
       "    <tr>\n",
       "      <th>21</th>\n",
       "      <td>12.8</td>\n",
       "      <td>-1.0</td>\n",
       "      <td>6.6</td>\n",
       "    </tr>\n",
       "    <tr>\n",
       "      <th>22</th>\n",
       "      <td>11.3</td>\n",
       "      <td>-3.6</td>\n",
       "      <td>5.1</td>\n",
       "    </tr>\n",
       "    <tr>\n",
       "      <th>23</th>\n",
       "      <td>1.0</td>\n",
       "      <td>-8.2</td>\n",
       "      <td>3.9</td>\n",
       "    </tr>\n",
       "    <tr>\n",
       "      <th>24</th>\n",
       "      <td>14.5</td>\n",
       "      <td>-0.5</td>\n",
       "      <td>5.7</td>\n",
       "    </tr>\n",
       "    <tr>\n",
       "      <th>25</th>\n",
       "      <td>11.9</td>\n",
       "      <td>-2.0</td>\n",
       "      <td>5.1</td>\n",
       "    </tr>\n",
       "    <tr>\n",
       "      <th>26</th>\n",
       "      <td>8.1</td>\n",
       "      <td>-1.6</td>\n",
       "      <td>5.2</td>\n",
       "    </tr>\n",
       "    <tr>\n",
       "      <th>27</th>\n",
       "      <td>13.8</td>\n",
       "      <td>-11.9</td>\n",
       "      <td>3.7</td>\n",
       "    </tr>\n",
       "    <tr>\n",
       "      <th>28</th>\n",
       "      <td>15.5</td>\n",
       "      <td>-0.7</td>\n",
       "      <td>4.9</td>\n",
       "    </tr>\n",
       "    <tr>\n",
       "      <th>29</th>\n",
       "      <td>9.8</td>\n",
       "      <td>-1.2</td>\n",
       "      <td>4.8</td>\n",
       "    </tr>\n",
       "    <tr>\n",
       "      <th>30</th>\n",
       "      <td>11.0</td>\n",
       "      <td>-14.3</td>\n",
       "      <td>4.4</td>\n",
       "    </tr>\n",
       "    <tr>\n",
       "      <th>31</th>\n",
       "      <td>12.4</td>\n",
       "      <td>-0.8</td>\n",
       "      <td>5.2</td>\n",
       "    </tr>\n",
       "    <tr>\n",
       "      <th>32</th>\n",
       "      <td>11.1</td>\n",
       "      <td>-16.8</td>\n",
       "      <td>5.1</td>\n",
       "    </tr>\n",
       "    <tr>\n",
       "      <th>33</th>\n",
       "      <td>5.1</td>\n",
       "      <td>-5.1</td>\n",
       "      <td>4.6</td>\n",
       "    </tr>\n",
       "    <tr>\n",
       "      <th>34</th>\n",
       "      <td>4.8</td>\n",
       "      <td>-9.5</td>\n",
       "      <td>3.9</td>\n",
       "    </tr>\n",
       "    <tr>\n",
       "      <th>35</th>\n",
       "      <td>4.2</td>\n",
       "      <td>-17.0</td>\n",
       "      <td>5.1</td>\n",
       "    </tr>\n",
       "    <tr>\n",
       "      <th>36</th>\n",
       "      <td>6.9</td>\n",
       "      <td>-3.3</td>\n",
       "      <td>5.1</td>\n",
       "    </tr>\n",
       "    <tr>\n",
       "      <th>37</th>\n",
       "      <td>13.2</td>\n",
       "      <td>-0.7</td>\n",
       "      <td>6.0</td>\n",
       "    </tr>\n",
       "    <tr>\n",
       "      <th>38</th>\n",
       "      <td>9.9</td>\n",
       "      <td>-3.3</td>\n",
       "      <td>4.9</td>\n",
       "    </tr>\n",
       "    <tr>\n",
       "      <th>39</th>\n",
       "      <td>12.5</td>\n",
       "      <td>-13.6</td>\n",
       "      <td>4.1</td>\n",
       "    </tr>\n",
       "    <tr>\n",
       "      <th>40</th>\n",
       "      <td>13.2</td>\n",
       "      <td>-1.9</td>\n",
       "      <td>4.6</td>\n",
       "    </tr>\n",
       "    <tr>\n",
       "      <th>41</th>\n",
       "      <td>8.9</td>\n",
       "      <td>-10.0</td>\n",
       "      <td>4.9</td>\n",
       "    </tr>\n",
       "  </tbody>\n",
       "</table>\n",
       "</div>"
      ],
      "text/plain": [
       "    deficit  target  age\n",
       "0       5.2    -8.1  4.8\n",
       "1       8.8   -16.1  4.1\n",
       "2      10.5    -0.9  5.2\n",
       "3      10.6    -7.8  5.5\n",
       "4      10.4   -29.0  5.0\n",
       "5       1.8   -19.2  3.4\n",
       "6      12.7   -18.9  3.4\n",
       "7      15.6   -10.6  4.9\n",
       "8       5.8    -2.8  5.6\n",
       "9       1.9   -25.0  3.7\n",
       "10      2.2    -3.1  3.9\n",
       "11      4.8    -7.8  4.5\n",
       "12      7.9   -13.9  4.8\n",
       "13      5.2    -4.5  4.9\n",
       "14      0.9   -11.6  3.0\n",
       "15     11.8    -2.1  4.6\n",
       "16      7.9    -2.0  4.8\n",
       "17     11.5    -9.0  5.5\n",
       "18     10.6   -11.2  4.5\n",
       "19      8.5    -0.2  5.3\n",
       "20     11.1    -6.1  4.7\n",
       "21     12.8    -1.0  6.6\n",
       "22     11.3    -3.6  5.1\n",
       "23      1.0    -8.2  3.9\n",
       "24     14.5    -0.5  5.7\n",
       "25     11.9    -2.0  5.1\n",
       "26      8.1    -1.6  5.2\n",
       "27     13.8   -11.9  3.7\n",
       "28     15.5    -0.7  4.9\n",
       "29      9.8    -1.2  4.8\n",
       "30     11.0   -14.3  4.4\n",
       "31     12.4    -0.8  5.2\n",
       "32     11.1   -16.8  5.1\n",
       "33      5.1    -5.1  4.6\n",
       "34      4.8    -9.5  3.9\n",
       "35      4.2   -17.0  5.1\n",
       "36      6.9    -3.3  5.1\n",
       "37     13.2    -0.7  6.0\n",
       "38      9.9    -3.3  4.9\n",
       "39     12.5   -13.6  4.1\n",
       "40     13.2    -1.9  4.6\n",
       "41      8.9   -10.0  4.9"
      ]
     },
     "execution_count": 44,
     "metadata": {},
     "output_type": "execute_result"
    }
   ],
   "source": [
    "df"
   ]
  },
  {
   "cell_type": "code",
   "execution_count": 45,
   "id": "7804897f-8a5a-4568-a55e-60f2b85b8492",
   "metadata": {},
   "outputs": [],
   "source": [
    "df_train.to_csv(os.path.join(name2save, 'diabetes_train.csv'))"
   ]
  },
  {
   "cell_type": "code",
   "execution_count": 46,
   "id": "a8b264a9-5830-4ebd-bf30-f241e7cf965e",
   "metadata": {},
   "outputs": [],
   "source": [
    "df_test.to_csv(os.path.join(name2save, 'diabetes_test.csv'))"
   ]
  },
  {
   "cell_type": "code",
   "execution_count": null,
   "id": "fe68909b-a3dd-44a5-8cc2-2e3c5748dd61",
   "metadata": {},
   "outputs": [],
   "source": []
  }
 ],
 "metadata": {
  "kernelspec": {
   "display_name": "Python 3 (ipykernel)",
   "language": "python",
   "name": "python3"
  },
  "language_info": {
   "codemirror_mode": {
    "name": "ipython",
    "version": 3
   },
   "file_extension": ".py",
   "mimetype": "text/x-python",
   "name": "python",
   "nbconvert_exporter": "python",
   "pygments_lexer": "ipython3",
   "version": "3.11.7"
  }
 },
 "nbformat": 4,
 "nbformat_minor": 5
}
