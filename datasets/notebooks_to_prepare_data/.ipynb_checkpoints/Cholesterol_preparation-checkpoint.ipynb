{
 "cells": [
  {
   "cell_type": "code",
   "execution_count": 1,
   "id": "d255549a-7e27-49b4-88e5-f4edc4649ece",
   "metadata": {},
   "outputs": [],
   "source": [
    "import pandas as pd\n",
    "import numpy as np\n",
    "import os\n",
    "from sklearn.model_selection import train_test_split"
   ]
  },
  {
   "cell_type": "code",
   "execution_count": 2,
   "id": "9d14a21d-ba4e-4021-9428-e63ae7b0cf1a",
   "metadata": {},
   "outputs": [],
   "source": [
    "dir2save = '/home/cz/mds3/data-centric/datasets/'"
   ]
  },
  {
   "cell_type": "code",
   "execution_count": 3,
   "id": "735c3fac-e84f-4822-8fb3-96c4376e8bde",
   "metadata": {},
   "outputs": [],
   "source": [
    "dir2read =  '/home/cz/mds3/data-centric/datasets/news_correct/'"
   ]
  },
  {
   "cell_type": "code",
   "execution_count": 4,
   "id": "07daaa90-6459-457c-9b39-7f71def9b446",
   "metadata": {},
   "outputs": [],
   "source": [
    "name2save= os.path.join(dir2save, 'prepared/cholesterol')"
   ]
  },
  {
   "cell_type": "code",
   "execution_count": 5,
   "id": "0a3cae6c-7771-4450-935a-3b887926182b",
   "metadata": {},
   "outputs": [],
   "source": [
    "os.makedirs(name2save, exist_ok=True)"
   ]
  },
  {
   "cell_type": "code",
   "execution_count": 6,
   "id": "8e8332d7-1b2d-4b82-8cd1-aa826b253244",
   "metadata": {},
   "outputs": [],
   "source": [
    "def read_arf_file(arf_file_path):\n",
    "    data = []\n",
    "    with open(arf_file_path, 'r', encoding='utf-8') as file:\n",
    "        for line in file:\n",
    "            # Processar cada linha conforme necessário\n",
    "            # Aqui, apenas adicionando cada linha aos dados\n",
    "            data.append(line.strip())\n",
    "    return data\n"
   ]
  },
  {
   "cell_type": "code",
   "execution_count": 7,
   "id": "487436ce-6e69-41cb-9d78-c918028db811",
   "metadata": {},
   "outputs": [],
   "source": [
    "# Exemplo de uso\n",
    "arf_data = read_arf_file(dir2read+\"dataset_2190_cholesterol.arff\")"
   ]
  },
  {
   "cell_type": "code",
   "execution_count": 8,
   "id": "8f5fb807-5026-4751-85a3-80215cdca69e",
   "metadata": {},
   "outputs": [],
   "source": [
    "prior_data = arf_data[259:]"
   ]
  },
  {
   "cell_type": "code",
   "execution_count": 9,
   "id": "71338dd0-c296-463d-be95-ce46726af281",
   "metadata": {},
   "outputs": [],
   "source": [
    "attributes = prior_data[:15]"
   ]
  },
  {
   "cell_type": "code",
   "execution_count": 10,
   "id": "76577df3-712c-4ab9-a67b-c26bc0b1aa6c",
   "metadata": {},
   "outputs": [],
   "source": [
    "data = prior_data[16:]"
   ]
  },
  {
   "cell_type": "code",
   "execution_count": 11,
   "id": "3ed7647b-9f04-42ff-b2b1-e9b550256189",
   "metadata": {},
   "outputs": [],
   "source": [
    "columns_extracted = []\n",
    "\n",
    "# Analise cada string na lista de atributos\n",
    "for attribute in attributes:\n",
    "    # Separe o nome do atributo e o tipo de dados\n",
    "    parts = attribute.split()\n",
    "    #print(parts)\n",
    "    attribute_name = parts[1]\n",
    "    data_type = parts[2]\n",
    "    columns_extracted.append(attribute_name)"
   ]
  },
  {
   "cell_type": "code",
   "execution_count": 12,
   "id": "d5463e7e-9fe0-46e0-ae89-fa4773a72fcf",
   "metadata": {},
   "outputs": [],
   "source": [
    "new_data = []\n",
    "for i in range(len(data)-1):\n",
    "    new_data.append(data[i].split(','))"
   ]
  },
  {
   "cell_type": "code",
   "execution_count": 13,
   "id": "53a9911a-7ccc-4584-98be-85bac423cbea",
   "metadata": {},
   "outputs": [],
   "source": [
    "new_data = [obtained for obtained in new_data if '?' not in obtained]\n"
   ]
  },
  {
   "cell_type": "code",
   "execution_count": 14,
   "id": "047c1b01-6b84-44b3-9e5b-2506b4452c92",
   "metadata": {},
   "outputs": [],
   "source": [
    "new_data = np.array(new_data)"
   ]
  },
  {
   "cell_type": "code",
   "execution_count": 15,
   "id": "057bfd09-2cb4-4fb4-b57f-6db088a5f631",
   "metadata": {},
   "outputs": [],
   "source": [
    "new_datafloat = [[float(info) for info in obtained] for obtained in new_data]"
   ]
  },
  {
   "cell_type": "code",
   "execution_count": 16,
   "id": "e24d859b-5127-42c7-b2a4-5c83bc8eb36c",
   "metadata": {},
   "outputs": [],
   "source": [
    "new_datafloat = np.array(new_datafloat)"
   ]
  },
  {
   "cell_type": "code",
   "execution_count": 17,
   "id": "a74d6aeb-1b9d-46c8-9904-9fa46f51e066",
   "metadata": {},
   "outputs": [
    {
     "data": {
      "text/plain": [
       "(297, 14)"
      ]
     },
     "execution_count": 17,
     "metadata": {},
     "output_type": "execute_result"
    }
   ],
   "source": [
    "new_datafloat.shape"
   ]
  },
  {
   "cell_type": "code",
   "execution_count": 18,
   "id": "e12feda0-e724-440b-8af6-179e4a4b068a",
   "metadata": {},
   "outputs": [
    {
     "data": {
      "text/plain": [
       "array([[ 63.,   1.,   1., ...,   6.,   0., 233.],\n",
       "       [ 67.,   1.,   4., ...,   3.,   2., 286.],\n",
       "       [ 67.,   1.,   4., ...,   7.,   1., 229.],\n",
       "       ...,\n",
       "       [ 68.,   1.,   4., ...,   7.,   2., 193.],\n",
       "       [ 57.,   1.,   4., ...,   7.,   3., 131.],\n",
       "       [ 57.,   0.,   2., ...,   3.,   1., 236.]])"
      ]
     },
     "execution_count": 18,
     "metadata": {},
     "output_type": "execute_result"
    }
   ],
   "source": [
    "new_datafloat"
   ]
  },
  {
   "cell_type": "code",
   "execution_count": 19,
   "id": "f71bbbb9-ce2b-436b-b238-8975151ad46b",
   "metadata": {},
   "outputs": [],
   "source": [
    "columns_extracted = np.array(list(set(columns_extracted)))"
   ]
  },
  {
   "cell_type": "code",
   "execution_count": 20,
   "id": "19bb2179-7572-45e7-8de6-25f133c06498",
   "metadata": {},
   "outputs": [],
   "source": [
    "columns_extracted = [element.split('\"')[0] for element in columns_extracted]"
   ]
  },
  {
   "cell_type": "code",
   "execution_count": 21,
   "id": "9c2ae6ae-d8cc-454f-8c14-6a0b5f1b0348",
   "metadata": {},
   "outputs": [
    {
     "name": "stdout",
     "output_type": "stream",
     "text": [
      "['oldpeak', 'exang', 'restecg', 'num', 'fbs', 'thalach', 'sex', 'trestbps', 'slope', 'thal', 'chol', 'age', 'cp', 'ca']\n"
     ]
    }
   ],
   "source": [
    "import re\n",
    "\n",
    "def remover_aspas(lista):\n",
    "  \"\"\"\n",
    "  Remove aspas duplas e simples de cada string da lista.\n",
    "\n",
    "  Argumentos:\n",
    "    lista: A lista de strings.\n",
    "\n",
    "  Retorna:\n",
    "    Uma nova lista com as strings sem aspas.\n",
    "  \"\"\"\n",
    "  nova_lista = []\n",
    "  for item in lista:\n",
    "    # Substitui aspas duplas e simples por string vazia\n",
    "    sem_aspas = re.sub(r'[\"\\']', '', item)\n",
    "    nova_lista.append(sem_aspas)\n",
    "  return nova_lista\n",
    "\n",
    "\n",
    "lista_sem_aspas = remover_aspas(columns_extracted)\n",
    "print(lista_sem_aspas)  # Resultado: ['sex', 'trestbps', 'cp', 'fbs', 'thal', 'slope', 'ca', 'oldpeak', 'restecg', 'num', 'chol', 'exang', 'thalach', 'age']\n"
   ]
  },
  {
   "cell_type": "code",
   "execution_count": 22,
   "id": "13add627-813b-49cc-b3ab-21effae7f93a",
   "metadata": {},
   "outputs": [],
   "source": [
    "df= pd.DataFrame(new_datafloat, columns = lista_sem_aspas)"
   ]
  },
  {
   "cell_type": "code",
   "execution_count": 30,
   "id": "8847cc71-73d9-4910-8e91-c4d74df5db26",
   "metadata": {},
   "outputs": [],
   "source": [
    "df = df.rename(columns={'slope':'target'})"
   ]
  },
  {
   "cell_type": "code",
   "execution_count": 32,
   "id": "b83175ea-ac2d-4e9b-8bf6-16a9e80b152b",
   "metadata": {},
   "outputs": [],
   "source": [
    "df_train, df_test = train_test_split(df, test_size=0.33, random_state=42)"
   ]
  },
  {
   "cell_type": "code",
   "execution_count": 33,
   "id": "debba1cd-44cc-42cf-8bab-d4835c2008fb",
   "metadata": {},
   "outputs": [
    {
     "data": {
      "text/plain": [
       "((198, 14), (99, 14))"
      ]
     },
     "execution_count": 33,
     "metadata": {},
     "output_type": "execute_result"
    }
   ],
   "source": [
    "df_train.shape, df_test.shape"
   ]
  },
  {
   "cell_type": "code",
   "execution_count": 34,
   "id": "8b7a5f58-cb8a-4b1b-9dca-859ba86140c1",
   "metadata": {},
   "outputs": [
    {
     "data": {
      "text/html": [
       "<div>\n",
       "<style scoped>\n",
       "    .dataframe tbody tr th:only-of-type {\n",
       "        vertical-align: middle;\n",
       "    }\n",
       "\n",
       "    .dataframe tbody tr th {\n",
       "        vertical-align: top;\n",
       "    }\n",
       "\n",
       "    .dataframe thead th {\n",
       "        text-align: right;\n",
       "    }\n",
       "</style>\n",
       "<table border=\"1\" class=\"dataframe\">\n",
       "  <thead>\n",
       "    <tr style=\"text-align: right;\">\n",
       "      <th></th>\n",
       "      <th>oldpeak</th>\n",
       "      <th>exang</th>\n",
       "      <th>restecg</th>\n",
       "      <th>num</th>\n",
       "      <th>fbs</th>\n",
       "      <th>thalach</th>\n",
       "      <th>sex</th>\n",
       "      <th>trestbps</th>\n",
       "      <th>target</th>\n",
       "      <th>thal</th>\n",
       "      <th>chol</th>\n",
       "      <th>age</th>\n",
       "      <th>cp</th>\n",
       "      <th>ca</th>\n",
       "    </tr>\n",
       "  </thead>\n",
       "  <tbody>\n",
       "    <tr>\n",
       "      <th>0</th>\n",
       "      <td>63.0</td>\n",
       "      <td>1.0</td>\n",
       "      <td>1.0</td>\n",
       "      <td>145.0</td>\n",
       "      <td>1.0</td>\n",
       "      <td>2.0</td>\n",
       "      <td>150.0</td>\n",
       "      <td>0.0</td>\n",
       "      <td>2.3</td>\n",
       "      <td>3.0</td>\n",
       "      <td>0.0</td>\n",
       "      <td>6.0</td>\n",
       "      <td>0.0</td>\n",
       "      <td>233.0</td>\n",
       "    </tr>\n",
       "    <tr>\n",
       "      <th>1</th>\n",
       "      <td>67.0</td>\n",
       "      <td>1.0</td>\n",
       "      <td>4.0</td>\n",
       "      <td>160.0</td>\n",
       "      <td>0.0</td>\n",
       "      <td>2.0</td>\n",
       "      <td>108.0</td>\n",
       "      <td>1.0</td>\n",
       "      <td>1.5</td>\n",
       "      <td>2.0</td>\n",
       "      <td>3.0</td>\n",
       "      <td>3.0</td>\n",
       "      <td>2.0</td>\n",
       "      <td>286.0</td>\n",
       "    </tr>\n",
       "    <tr>\n",
       "      <th>2</th>\n",
       "      <td>67.0</td>\n",
       "      <td>1.0</td>\n",
       "      <td>4.0</td>\n",
       "      <td>120.0</td>\n",
       "      <td>0.0</td>\n",
       "      <td>2.0</td>\n",
       "      <td>129.0</td>\n",
       "      <td>1.0</td>\n",
       "      <td>2.6</td>\n",
       "      <td>2.0</td>\n",
       "      <td>2.0</td>\n",
       "      <td>7.0</td>\n",
       "      <td>1.0</td>\n",
       "      <td>229.0</td>\n",
       "    </tr>\n",
       "    <tr>\n",
       "      <th>3</th>\n",
       "      <td>37.0</td>\n",
       "      <td>1.0</td>\n",
       "      <td>3.0</td>\n",
       "      <td>130.0</td>\n",
       "      <td>0.0</td>\n",
       "      <td>0.0</td>\n",
       "      <td>187.0</td>\n",
       "      <td>0.0</td>\n",
       "      <td>3.5</td>\n",
       "      <td>3.0</td>\n",
       "      <td>0.0</td>\n",
       "      <td>3.0</td>\n",
       "      <td>0.0</td>\n",
       "      <td>250.0</td>\n",
       "    </tr>\n",
       "    <tr>\n",
       "      <th>4</th>\n",
       "      <td>41.0</td>\n",
       "      <td>0.0</td>\n",
       "      <td>2.0</td>\n",
       "      <td>130.0</td>\n",
       "      <td>0.0</td>\n",
       "      <td>2.0</td>\n",
       "      <td>172.0</td>\n",
       "      <td>0.0</td>\n",
       "      <td>1.4</td>\n",
       "      <td>1.0</td>\n",
       "      <td>0.0</td>\n",
       "      <td>3.0</td>\n",
       "      <td>0.0</td>\n",
       "      <td>204.0</td>\n",
       "    </tr>\n",
       "    <tr>\n",
       "      <th>...</th>\n",
       "      <td>...</td>\n",
       "      <td>...</td>\n",
       "      <td>...</td>\n",
       "      <td>...</td>\n",
       "      <td>...</td>\n",
       "      <td>...</td>\n",
       "      <td>...</td>\n",
       "      <td>...</td>\n",
       "      <td>...</td>\n",
       "      <td>...</td>\n",
       "      <td>...</td>\n",
       "      <td>...</td>\n",
       "      <td>...</td>\n",
       "      <td>...</td>\n",
       "    </tr>\n",
       "    <tr>\n",
       "      <th>292</th>\n",
       "      <td>57.0</td>\n",
       "      <td>0.0</td>\n",
       "      <td>4.0</td>\n",
       "      <td>140.0</td>\n",
       "      <td>0.0</td>\n",
       "      <td>0.0</td>\n",
       "      <td>123.0</td>\n",
       "      <td>1.0</td>\n",
       "      <td>0.2</td>\n",
       "      <td>2.0</td>\n",
       "      <td>0.0</td>\n",
       "      <td>7.0</td>\n",
       "      <td>1.0</td>\n",
       "      <td>241.0</td>\n",
       "    </tr>\n",
       "    <tr>\n",
       "      <th>293</th>\n",
       "      <td>45.0</td>\n",
       "      <td>1.0</td>\n",
       "      <td>1.0</td>\n",
       "      <td>110.0</td>\n",
       "      <td>0.0</td>\n",
       "      <td>0.0</td>\n",
       "      <td>132.0</td>\n",
       "      <td>0.0</td>\n",
       "      <td>1.2</td>\n",
       "      <td>2.0</td>\n",
       "      <td>0.0</td>\n",
       "      <td>7.0</td>\n",
       "      <td>1.0</td>\n",
       "      <td>264.0</td>\n",
       "    </tr>\n",
       "    <tr>\n",
       "      <th>294</th>\n",
       "      <td>68.0</td>\n",
       "      <td>1.0</td>\n",
       "      <td>4.0</td>\n",
       "      <td>144.0</td>\n",
       "      <td>1.0</td>\n",
       "      <td>0.0</td>\n",
       "      <td>141.0</td>\n",
       "      <td>0.0</td>\n",
       "      <td>3.4</td>\n",
       "      <td>2.0</td>\n",
       "      <td>2.0</td>\n",
       "      <td>7.0</td>\n",
       "      <td>2.0</td>\n",
       "      <td>193.0</td>\n",
       "    </tr>\n",
       "    <tr>\n",
       "      <th>295</th>\n",
       "      <td>57.0</td>\n",
       "      <td>1.0</td>\n",
       "      <td>4.0</td>\n",
       "      <td>130.0</td>\n",
       "      <td>0.0</td>\n",
       "      <td>0.0</td>\n",
       "      <td>115.0</td>\n",
       "      <td>1.0</td>\n",
       "      <td>1.2</td>\n",
       "      <td>2.0</td>\n",
       "      <td>1.0</td>\n",
       "      <td>7.0</td>\n",
       "      <td>3.0</td>\n",
       "      <td>131.0</td>\n",
       "    </tr>\n",
       "    <tr>\n",
       "      <th>296</th>\n",
       "      <td>57.0</td>\n",
       "      <td>0.0</td>\n",
       "      <td>2.0</td>\n",
       "      <td>130.0</td>\n",
       "      <td>0.0</td>\n",
       "      <td>2.0</td>\n",
       "      <td>174.0</td>\n",
       "      <td>0.0</td>\n",
       "      <td>0.0</td>\n",
       "      <td>2.0</td>\n",
       "      <td>1.0</td>\n",
       "      <td>3.0</td>\n",
       "      <td>1.0</td>\n",
       "      <td>236.0</td>\n",
       "    </tr>\n",
       "  </tbody>\n",
       "</table>\n",
       "<p>297 rows × 14 columns</p>\n",
       "</div>"
      ],
      "text/plain": [
       "     oldpeak  exang  restecg    num  fbs  thalach    sex  trestbps  target  \\\n",
       "0       63.0    1.0      1.0  145.0  1.0      2.0  150.0       0.0     2.3   \n",
       "1       67.0    1.0      4.0  160.0  0.0      2.0  108.0       1.0     1.5   \n",
       "2       67.0    1.0      4.0  120.0  0.0      2.0  129.0       1.0     2.6   \n",
       "3       37.0    1.0      3.0  130.0  0.0      0.0  187.0       0.0     3.5   \n",
       "4       41.0    0.0      2.0  130.0  0.0      2.0  172.0       0.0     1.4   \n",
       "..       ...    ...      ...    ...  ...      ...    ...       ...     ...   \n",
       "292     57.0    0.0      4.0  140.0  0.0      0.0  123.0       1.0     0.2   \n",
       "293     45.0    1.0      1.0  110.0  0.0      0.0  132.0       0.0     1.2   \n",
       "294     68.0    1.0      4.0  144.0  1.0      0.0  141.0       0.0     3.4   \n",
       "295     57.0    1.0      4.0  130.0  0.0      0.0  115.0       1.0     1.2   \n",
       "296     57.0    0.0      2.0  130.0  0.0      2.0  174.0       0.0     0.0   \n",
       "\n",
       "     thal  chol  age   cp     ca  \n",
       "0     3.0   0.0  6.0  0.0  233.0  \n",
       "1     2.0   3.0  3.0  2.0  286.0  \n",
       "2     2.0   2.0  7.0  1.0  229.0  \n",
       "3     3.0   0.0  3.0  0.0  250.0  \n",
       "4     1.0   0.0  3.0  0.0  204.0  \n",
       "..    ...   ...  ...  ...    ...  \n",
       "292   2.0   0.0  7.0  1.0  241.0  \n",
       "293   2.0   0.0  7.0  1.0  264.0  \n",
       "294   2.0   2.0  7.0  2.0  193.0  \n",
       "295   2.0   1.0  7.0  3.0  131.0  \n",
       "296   2.0   1.0  3.0  1.0  236.0  \n",
       "\n",
       "[297 rows x 14 columns]"
      ]
     },
     "execution_count": 34,
     "metadata": {},
     "output_type": "execute_result"
    }
   ],
   "source": [
    "df"
   ]
  },
  {
   "cell_type": "code",
   "execution_count": 35,
   "id": "7804897f-8a5a-4568-a55e-60f2b85b8492",
   "metadata": {},
   "outputs": [],
   "source": [
    "df_train.to_csv(os.path.join(name2save, 'cholesterol_train.csv'))"
   ]
  },
  {
   "cell_type": "code",
   "execution_count": 36,
   "id": "a8b264a9-5830-4ebd-bf30-f241e7cf965e",
   "metadata": {},
   "outputs": [],
   "source": [
    "df_test.to_csv(os.path.join(name2save, 'cholesterol_test.csv'))"
   ]
  }
 ],
 "metadata": {
  "kernelspec": {
   "display_name": "Python 3 (ipykernel)",
   "language": "python",
   "name": "python3"
  },
  "language_info": {
   "codemirror_mode": {
    "name": "ipython",
    "version": 3
   },
   "file_extension": ".py",
   "mimetype": "text/x-python",
   "name": "python",
   "nbconvert_exporter": "python",
   "pygments_lexer": "ipython3",
   "version": "3.11.7"
  }
 },
 "nbformat": 4,
 "nbformat_minor": 5
}
