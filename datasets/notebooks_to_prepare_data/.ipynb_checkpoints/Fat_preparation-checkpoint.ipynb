{
 "cells": [
  {
   "cell_type": "code",
   "execution_count": 2,
   "id": "d255549a-7e27-49b4-88e5-f4edc4649ece",
   "metadata": {},
   "outputs": [],
   "source": [
    "import pandas as pd\n",
    "import numpy as np\n",
    "import os\n",
    "from sklearn.model_selection import train_test_split"
   ]
  },
  {
   "cell_type": "code",
   "execution_count": 3,
   "id": "9d14a21d-ba4e-4021-9428-e63ae7b0cf1a",
   "metadata": {},
   "outputs": [],
   "source": [
    "dir2save = '/home/cz/mds3/data-centric/datasets/'"
   ]
  },
  {
   "cell_type": "code",
   "execution_count": 10,
   "id": "735c3fac-e84f-4822-8fb3-96c4376e8bde",
   "metadata": {},
   "outputs": [],
   "source": [
    "dir2read =  '/home/cz/mds3/data-centric/datasets/news_correct/'"
   ]
  },
  {
   "cell_type": "code",
   "execution_count": 5,
   "id": "07daaa90-6459-457c-9b39-7f71def9b446",
   "metadata": {},
   "outputs": [],
   "source": [
    "name2save= os.path.join(dir2save, 'prepared/fat')"
   ]
  },
  {
   "cell_type": "code",
   "execution_count": 6,
   "id": "0a3cae6c-7771-4450-935a-3b887926182b",
   "metadata": {},
   "outputs": [],
   "source": [
    "os.makedirs(name2save, exist_ok=True)"
   ]
  },
  {
   "cell_type": "code",
   "execution_count": 7,
   "id": "8e8332d7-1b2d-4b82-8cd1-aa826b253244",
   "metadata": {},
   "outputs": [],
   "source": [
    "def read_arf_file(arf_file_path):\n",
    "    data = []\n",
    "    with open(arf_file_path, 'r', encoding='utf-8') as file:\n",
    "        for line in file:\n",
    "            # Processar cada linha conforme necessário\n",
    "            # Aqui, apenas adicionando cada linha aos dados\n",
    "            data.append(line.strip())\n",
    "    return data\n"
   ]
  },
  {
   "cell_type": "code",
   "execution_count": 11,
   "id": "487436ce-6e69-41cb-9d78-c918028db811",
   "metadata": {},
   "outputs": [],
   "source": [
    "# Exemplo de uso\n",
    "arf_data = read_arf_file(dir2read+\"bodyfat.arff\")"
   ]
  },
  {
   "cell_type": "code",
   "execution_count": 38,
   "id": "8f5fb807-5026-4751-85a3-80215cdca69e",
   "metadata": {},
   "outputs": [],
   "source": [
    "prior_data = arf_data[129:]"
   ]
  },
  {
   "cell_type": "code",
   "execution_count": 42,
   "id": "71338dd0-c296-463d-be95-ce46726af281",
   "metadata": {},
   "outputs": [],
   "source": [
    "attributes = prior_data[:15]"
   ]
  },
  {
   "cell_type": "code",
   "execution_count": 30,
   "id": "76577df3-712c-4ab9-a67b-c26bc0b1aa6c",
   "metadata": {},
   "outputs": [],
   "source": [
    "data = prior_data[18:]"
   ]
  },
  {
   "cell_type": "code",
   "execution_count": 45,
   "id": "3ed7647b-9f04-42ff-b2b1-e9b550256189",
   "metadata": {},
   "outputs": [],
   "source": [
    "columns_extracted = []\n",
    "\n",
    "# Analise cada string na lista de atributos\n",
    "for attribute in attributes:\n",
    "    # Separe o nome do atributo e o tipo de dados\n",
    "    parts = attribute.split()\n",
    "    #print(parts)\n",
    "    attribute_name = parts[1]\n",
    "    data_type = parts[2]\n",
    "    columns_extracted.append(attribute_name)"
   ]
  },
  {
   "cell_type": "code",
   "execution_count": 46,
   "id": "d5463e7e-9fe0-46e0-ae89-fa4773a72fcf",
   "metadata": {},
   "outputs": [],
   "source": [
    "new_data = []\n",
    "for i in range(len(data)):\n",
    "    new_data.append(data[i].split(','))"
   ]
  },
  {
   "cell_type": "code",
   "execution_count": 47,
   "id": "047c1b01-6b84-44b3-9e5b-2506b4452c92",
   "metadata": {},
   "outputs": [],
   "source": [
    "new_data = np.array(new_data)"
   ]
  },
  {
   "cell_type": "code",
   "execution_count": 49,
   "id": "057bfd09-2cb4-4fb4-b57f-6db088a5f631",
   "metadata": {},
   "outputs": [],
   "source": [
    "new_datafloat = [[float(info) for info in obtained] for obtained in new_data]"
   ]
  },
  {
   "cell_type": "code",
   "execution_count": 50,
   "id": "e24d859b-5127-42c7-b2a4-5c83bc8eb36c",
   "metadata": {},
   "outputs": [],
   "source": [
    "new_datafloat = np.array(new_datafloat)"
   ]
  },
  {
   "cell_type": "code",
   "execution_count": 51,
   "id": "a74d6aeb-1b9d-46c8-9904-9fa46f51e066",
   "metadata": {},
   "outputs": [
    {
     "data": {
      "text/plain": [
       "(251, 15)"
      ]
     },
     "execution_count": 51,
     "metadata": {},
     "output_type": "execute_result"
    }
   ],
   "source": [
    "new_datafloat.shape"
   ]
  },
  {
   "cell_type": "code",
   "execution_count": 52,
   "id": "e12feda0-e724-440b-8af6-179e4a4b068a",
   "metadata": {},
   "outputs": [
    {
     "data": {
      "text/plain": [
       "array([[  1.0853,  22.    , 173.25  , ...,  28.9   ,  18.2   ,   6.1   ],\n",
       "       [  1.0414,  22.    , 154.    , ...,  25.2   ,  16.6   ,  25.3   ],\n",
       "       [  1.0751,  26.    , 184.75  , ...,  29.4   ,  18.2   ,  10.4   ],\n",
       "       ...,\n",
       "       [  1.0328,  72.    , 186.75  , ...,  27.2   ,  18.    ,  29.3   ],\n",
       "       [  1.0399,  72.    , 190.75  , ...,  29.4   ,  19.8   ,  26.    ],\n",
       "       [  1.0271,  74.    , 207.5   , ...,  30.    ,  20.9   ,  31.9   ]])"
      ]
     },
     "execution_count": 52,
     "metadata": {},
     "output_type": "execute_result"
    }
   ],
   "source": [
    "new_datafloat"
   ]
  },
  {
   "cell_type": "code",
   "execution_count": 53,
   "id": "13add627-813b-49cc-b3ab-21effae7f93a",
   "metadata": {},
   "outputs": [],
   "source": [
    "df= pd.DataFrame(new_datafloat, columns = columns_extracted)"
   ]
  },
  {
   "cell_type": "code",
   "execution_count": 61,
   "id": "8847cc71-73d9-4910-8e91-c4d74df5db26",
   "metadata": {},
   "outputs": [],
   "source": [
    "df = df.rename(columns={'class':'target'})"
   ]
  },
  {
   "cell_type": "code",
   "execution_count": 62,
   "id": "b83175ea-ac2d-4e9b-8bf6-16a9e80b152b",
   "metadata": {},
   "outputs": [],
   "source": [
    "df_train, df_test = train_test_split(df, test_size=0.33, random_state=42)"
   ]
  },
  {
   "cell_type": "code",
   "execution_count": 63,
   "id": "debba1cd-44cc-42cf-8bab-d4835c2008fb",
   "metadata": {},
   "outputs": [
    {
     "data": {
      "text/plain": [
       "((168, 15), (83, 15))"
      ]
     },
     "execution_count": 63,
     "metadata": {},
     "output_type": "execute_result"
    }
   ],
   "source": [
    "df_train.shape, df_test.shape"
   ]
  },
  {
   "cell_type": "code",
   "execution_count": 64,
   "id": "53e90a7a-3853-41b0-8f8c-453ad4066ba9",
   "metadata": {},
   "outputs": [
    {
     "data": {
      "text/html": [
       "<div>\n",
       "<style scoped>\n",
       "    .dataframe tbody tr th:only-of-type {\n",
       "        vertical-align: middle;\n",
       "    }\n",
       "\n",
       "    .dataframe tbody tr th {\n",
       "        vertical-align: top;\n",
       "    }\n",
       "\n",
       "    .dataframe thead th {\n",
       "        text-align: right;\n",
       "    }\n",
       "</style>\n",
       "<table border=\"1\" class=\"dataframe\">\n",
       "  <thead>\n",
       "    <tr style=\"text-align: right;\">\n",
       "      <th></th>\n",
       "      <th>Density</th>\n",
       "      <th>Age</th>\n",
       "      <th>Weight</th>\n",
       "      <th>Height</th>\n",
       "      <th>Neck</th>\n",
       "      <th>Chest</th>\n",
       "      <th>Abdomen</th>\n",
       "      <th>Hip</th>\n",
       "      <th>Thigh</th>\n",
       "      <th>Knee</th>\n",
       "      <th>Ankle</th>\n",
       "      <th>Biceps</th>\n",
       "      <th>Forearm</th>\n",
       "      <th>Wrist</th>\n",
       "      <th>target</th>\n",
       "    </tr>\n",
       "  </thead>\n",
       "  <tbody>\n",
       "    <tr>\n",
       "      <th>201</th>\n",
       "      <td>1.0340</td>\n",
       "      <td>43.0</td>\n",
       "      <td>200.50</td>\n",
       "      <td>71.50</td>\n",
       "      <td>37.9</td>\n",
       "      <td>107.2</td>\n",
       "      <td>103.1</td>\n",
       "      <td>105.5</td>\n",
       "      <td>68.8</td>\n",
       "      <td>38.3</td>\n",
       "      <td>23.7</td>\n",
       "      <td>32.1</td>\n",
       "      <td>28.9</td>\n",
       "      <td>18.7</td>\n",
       "      <td>28.7</td>\n",
       "    </tr>\n",
       "    <tr>\n",
       "      <th>152</th>\n",
       "      <td>1.0610</td>\n",
       "      <td>27.0</td>\n",
       "      <td>156.75</td>\n",
       "      <td>67.25</td>\n",
       "      <td>37.9</td>\n",
       "      <td>94.0</td>\n",
       "      <td>88.2</td>\n",
       "      <td>95.2</td>\n",
       "      <td>56.8</td>\n",
       "      <td>37.4</td>\n",
       "      <td>22.8</td>\n",
       "      <td>30.6</td>\n",
       "      <td>28.3</td>\n",
       "      <td>17.9</td>\n",
       "      <td>16.5</td>\n",
       "    </tr>\n",
       "    <tr>\n",
       "      <th>246</th>\n",
       "      <td>1.0736</td>\n",
       "      <td>70.0</td>\n",
       "      <td>134.25</td>\n",
       "      <td>67.00</td>\n",
       "      <td>34.9</td>\n",
       "      <td>89.2</td>\n",
       "      <td>83.6</td>\n",
       "      <td>88.8</td>\n",
       "      <td>49.6</td>\n",
       "      <td>34.8</td>\n",
       "      <td>21.5</td>\n",
       "      <td>25.6</td>\n",
       "      <td>25.7</td>\n",
       "      <td>18.5</td>\n",
       "      <td>11.0</td>\n",
       "    </tr>\n",
       "    <tr>\n",
       "      <th>65</th>\n",
       "      <td>1.0499</td>\n",
       "      <td>54.0</td>\n",
       "      <td>151.50</td>\n",
       "      <td>70.75</td>\n",
       "      <td>35.6</td>\n",
       "      <td>90.0</td>\n",
       "      <td>83.9</td>\n",
       "      <td>93.9</td>\n",
       "      <td>55.0</td>\n",
       "      <td>36.1</td>\n",
       "      <td>21.7</td>\n",
       "      <td>29.6</td>\n",
       "      <td>27.4</td>\n",
       "      <td>17.4</td>\n",
       "      <td>21.5</td>\n",
       "    </tr>\n",
       "    <tr>\n",
       "      <th>136</th>\n",
       "      <td>1.0325</td>\n",
       "      <td>43.0</td>\n",
       "      <td>187.75</td>\n",
       "      <td>74.00</td>\n",
       "      <td>37.7</td>\n",
       "      <td>97.8</td>\n",
       "      <td>98.6</td>\n",
       "      <td>100.6</td>\n",
       "      <td>63.6</td>\n",
       "      <td>39.2</td>\n",
       "      <td>23.8</td>\n",
       "      <td>34.3</td>\n",
       "      <td>28.4</td>\n",
       "      <td>17.7</td>\n",
       "      <td>29.4</td>\n",
       "    </tr>\n",
       "    <tr>\n",
       "      <th>...</th>\n",
       "      <td>...</td>\n",
       "      <td>...</td>\n",
       "      <td>...</td>\n",
       "      <td>...</td>\n",
       "      <td>...</td>\n",
       "      <td>...</td>\n",
       "      <td>...</td>\n",
       "      <td>...</td>\n",
       "      <td>...</td>\n",
       "      <td>...</td>\n",
       "      <td>...</td>\n",
       "      <td>...</td>\n",
       "      <td>...</td>\n",
       "      <td>...</td>\n",
       "      <td>...</td>\n",
       "    </tr>\n",
       "    <tr>\n",
       "      <th>106</th>\n",
       "      <td>1.0569</td>\n",
       "      <td>52.0</td>\n",
       "      <td>203.25</td>\n",
       "      <td>74.25</td>\n",
       "      <td>42.0</td>\n",
       "      <td>110.0</td>\n",
       "      <td>101.6</td>\n",
       "      <td>100.7</td>\n",
       "      <td>55.8</td>\n",
       "      <td>38.7</td>\n",
       "      <td>23.4</td>\n",
       "      <td>35.1</td>\n",
       "      <td>29.6</td>\n",
       "      <td>19.1</td>\n",
       "      <td>18.3</td>\n",
       "    </tr>\n",
       "    <tr>\n",
       "      <th>14</th>\n",
       "      <td>1.0512</td>\n",
       "      <td>35.0</td>\n",
       "      <td>162.75</td>\n",
       "      <td>66.00</td>\n",
       "      <td>36.4</td>\n",
       "      <td>99.1</td>\n",
       "      <td>92.8</td>\n",
       "      <td>99.2</td>\n",
       "      <td>63.1</td>\n",
       "      <td>38.7</td>\n",
       "      <td>21.7</td>\n",
       "      <td>31.1</td>\n",
       "      <td>26.4</td>\n",
       "      <td>16.9</td>\n",
       "      <td>20.9</td>\n",
       "    </tr>\n",
       "    <tr>\n",
       "      <th>92</th>\n",
       "      <td>1.0424</td>\n",
       "      <td>46.0</td>\n",
       "      <td>192.50</td>\n",
       "      <td>71.75</td>\n",
       "      <td>38.0</td>\n",
       "      <td>106.6</td>\n",
       "      <td>97.5</td>\n",
       "      <td>100.6</td>\n",
       "      <td>58.9</td>\n",
       "      <td>40.5</td>\n",
       "      <td>24.5</td>\n",
       "      <td>33.3</td>\n",
       "      <td>29.6</td>\n",
       "      <td>19.1</td>\n",
       "      <td>24.9</td>\n",
       "    </tr>\n",
       "    <tr>\n",
       "      <th>179</th>\n",
       "      <td>1.0387</td>\n",
       "      <td>39.0</td>\n",
       "      <td>219.25</td>\n",
       "      <td>74.25</td>\n",
       "      <td>40.0</td>\n",
       "      <td>108.5</td>\n",
       "      <td>104.6</td>\n",
       "      <td>109.8</td>\n",
       "      <td>68.1</td>\n",
       "      <td>42.8</td>\n",
       "      <td>24.1</td>\n",
       "      <td>35.6</td>\n",
       "      <td>29.0</td>\n",
       "      <td>19.0</td>\n",
       "      <td>26.6</td>\n",
       "    </tr>\n",
       "    <tr>\n",
       "      <th>102</th>\n",
       "      <td>1.0480</td>\n",
       "      <td>49.0</td>\n",
       "      <td>196.75</td>\n",
       "      <td>73.75</td>\n",
       "      <td>40.7</td>\n",
       "      <td>103.5</td>\n",
       "      <td>95.5</td>\n",
       "      <td>101.6</td>\n",
       "      <td>59.1</td>\n",
       "      <td>39.8</td>\n",
       "      <td>25.4</td>\n",
       "      <td>31.0</td>\n",
       "      <td>30.3</td>\n",
       "      <td>19.7</td>\n",
       "      <td>22.3</td>\n",
       "    </tr>\n",
       "  </tbody>\n",
       "</table>\n",
       "<p>168 rows × 15 columns</p>\n",
       "</div>"
      ],
      "text/plain": [
       "     Density   Age  Weight  Height  Neck  Chest  Abdomen    Hip  Thigh  Knee  \\\n",
       "201   1.0340  43.0  200.50   71.50  37.9  107.2    103.1  105.5   68.8  38.3   \n",
       "152   1.0610  27.0  156.75   67.25  37.9   94.0     88.2   95.2   56.8  37.4   \n",
       "246   1.0736  70.0  134.25   67.00  34.9   89.2     83.6   88.8   49.6  34.8   \n",
       "65    1.0499  54.0  151.50   70.75  35.6   90.0     83.9   93.9   55.0  36.1   \n",
       "136   1.0325  43.0  187.75   74.00  37.7   97.8     98.6  100.6   63.6  39.2   \n",
       "..       ...   ...     ...     ...   ...    ...      ...    ...    ...   ...   \n",
       "106   1.0569  52.0  203.25   74.25  42.0  110.0    101.6  100.7   55.8  38.7   \n",
       "14    1.0512  35.0  162.75   66.00  36.4   99.1     92.8   99.2   63.1  38.7   \n",
       "92    1.0424  46.0  192.50   71.75  38.0  106.6     97.5  100.6   58.9  40.5   \n",
       "179   1.0387  39.0  219.25   74.25  40.0  108.5    104.6  109.8   68.1  42.8   \n",
       "102   1.0480  49.0  196.75   73.75  40.7  103.5     95.5  101.6   59.1  39.8   \n",
       "\n",
       "     Ankle  Biceps  Forearm  Wrist  target  \n",
       "201   23.7    32.1     28.9   18.7    28.7  \n",
       "152   22.8    30.6     28.3   17.9    16.5  \n",
       "246   21.5    25.6     25.7   18.5    11.0  \n",
       "65    21.7    29.6     27.4   17.4    21.5  \n",
       "136   23.8    34.3     28.4   17.7    29.4  \n",
       "..     ...     ...      ...    ...     ...  \n",
       "106   23.4    35.1     29.6   19.1    18.3  \n",
       "14    21.7    31.1     26.4   16.9    20.9  \n",
       "92    24.5    33.3     29.6   19.1    24.9  \n",
       "179   24.1    35.6     29.0   19.0    26.6  \n",
       "102   25.4    31.0     30.3   19.7    22.3  \n",
       "\n",
       "[168 rows x 15 columns]"
      ]
     },
     "execution_count": 64,
     "metadata": {},
     "output_type": "execute_result"
    }
   ],
   "source": [
    "df_train"
   ]
  },
  {
   "cell_type": "code",
   "execution_count": 65,
   "id": "7804897f-8a5a-4568-a55e-60f2b85b8492",
   "metadata": {},
   "outputs": [],
   "source": [
    "df_train.to_csv(os.path.join(name2save, 'parkinson_train.csv'))"
   ]
  },
  {
   "cell_type": "code",
   "execution_count": 66,
   "id": "a8b264a9-5830-4ebd-bf30-f241e7cf965e",
   "metadata": {},
   "outputs": [],
   "source": [
    "df_test.to_csv(os.path.join(name2save, 'parkinson_test.csv'))"
   ]
  }
 ],
 "metadata": {
  "kernelspec": {
   "display_name": "Python 3 (ipykernel)",
   "language": "python",
   "name": "python3"
  },
  "language_info": {
   "codemirror_mode": {
    "name": "ipython",
    "version": 3
   },
   "file_extension": ".py",
   "mimetype": "text/x-python",
   "name": "python",
   "nbconvert_exporter": "python",
   "pygments_lexer": "ipython3",
   "version": "3.11.7"
  }
 },
 "nbformat": 4,
 "nbformat_minor": 5
}
