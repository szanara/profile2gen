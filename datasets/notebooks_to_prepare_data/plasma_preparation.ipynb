{
 "cells": [
  {
   "cell_type": "code",
   "execution_count": 1,
   "id": "d255549a-7e27-49b4-88e5-f4edc4649ece",
   "metadata": {},
   "outputs": [],
   "source": [
    "import pandas as pd\n",
    "import numpy as np\n",
    "import os\n",
    "from sklearn.model_selection import train_test_split"
   ]
  },
  {
   "cell_type": "code",
   "execution_count": null,
   "id": "9d14a21d-ba4e-4021-9428-e63ae7b0cf1a",
   "metadata": {},
   "outputs": [],
   "source": [
    "dir2save = 'path/datasets/'"
   ]
  },
  {
   "cell_type": "code",
   "execution_count": null,
   "id": "735c3fac-e84f-4822-8fb3-96c4376e8bde",
   "metadata": {},
   "outputs": [],
   "source": [
    "dir2read =  'path/datasets/originals/'"
   ]
  },
  {
   "cell_type": "code",
   "execution_count": null,
   "id": "07daaa90-6459-457c-9b39-7f71def9b446",
   "metadata": {},
   "outputs": [],
   "source": [
    "name2save= os.path.join(dir2save, 'prepared/plasma')"
   ]
  },
  {
   "cell_type": "code",
   "execution_count": 5,
   "id": "0a3cae6c-7771-4450-935a-3b887926182b",
   "metadata": {},
   "outputs": [],
   "source": [
    "os.makedirs(name2save, exist_ok=True)"
   ]
  },
  {
   "cell_type": "code",
   "execution_count": 6,
   "id": "8e8332d7-1b2d-4b82-8cd1-aa826b253244",
   "metadata": {},
   "outputs": [],
   "source": [
    "def read_arf_file(arf_file_path):\n",
    "    data = []\n",
    "    with open(arf_file_path, 'r', encoding='utf-8') as file:\n",
    "        for line in file:\n",
    "            # Processar cada linha conforme necessário\n",
    "            # Aqui, apenas adicionando cada linha aos dados\n",
    "            data.append(line.strip())\n",
    "    return data\n"
   ]
  },
  {
   "cell_type": "code",
   "execution_count": 7,
   "id": "487436ce-6e69-41cb-9d78-c918028db811",
   "metadata": {},
   "outputs": [],
   "source": [
    "# Exemplo de uso\n",
    "arf_data = read_arf_file(dir2read+\"plasma_retinol.arff\")"
   ]
  },
  {
   "cell_type": "code",
   "execution_count": 8,
   "id": "8f5fb807-5026-4751-85a3-80215cdca69e",
   "metadata": {},
   "outputs": [],
   "source": [
    "prior_data = arf_data[47:]"
   ]
  },
  {
   "cell_type": "code",
   "execution_count": 9,
   "id": "71338dd0-c296-463d-be95-ce46726af281",
   "metadata": {},
   "outputs": [],
   "source": [
    "attributes = prior_data[:14]"
   ]
  },
  {
   "cell_type": "code",
   "execution_count": 10,
   "id": "76577df3-712c-4ab9-a67b-c26bc0b1aa6c",
   "metadata": {},
   "outputs": [],
   "source": [
    "data = prior_data[16:]"
   ]
  },
  {
   "cell_type": "code",
   "execution_count": 11,
   "id": "3ed7647b-9f04-42ff-b2b1-e9b550256189",
   "metadata": {},
   "outputs": [],
   "source": [
    "columns_extracted = []\n",
    "\n",
    "# Analise cada string na lista de atributos\n",
    "for attribute in attributes:\n",
    "    # Separe o nome do atributo e o tipo de dados\n",
    "    parts = attribute.split()\n",
    "    #print(parts)\n",
    "    attribute_name = parts[1]\n",
    "    data_type = parts[2]\n",
    "    columns_extracted.append(attribute_name)"
   ]
  },
  {
   "cell_type": "code",
   "execution_count": 12,
   "id": "d5463e7e-9fe0-46e0-ae89-fa4773a72fcf",
   "metadata": {},
   "outputs": [],
   "source": [
    "new_data = []\n",
    "for i in range(len(data)-1):\n",
    "    new_data.append(data[i].split(','))"
   ]
  },
  {
   "cell_type": "code",
   "execution_count": 13,
   "id": "53a9911a-7ccc-4584-98be-85bac423cbea",
   "metadata": {},
   "outputs": [],
   "source": [
    "new_data = [obtained for obtained in new_data if '?' not in obtained]\n"
   ]
  },
  {
   "cell_type": "code",
   "execution_count": 14,
   "id": "047c1b01-6b84-44b3-9e5b-2506b4452c92",
   "metadata": {},
   "outputs": [],
   "source": [
    "new_data = np.array(new_data)"
   ]
  },
  {
   "cell_type": "code",
   "execution_count": 15,
   "id": "1ce71c26-e55d-4904-802a-cf68489022c4",
   "metadata": {},
   "outputs": [],
   "source": [
    "import numpy as np\n",
    "\n",
    "def transform_categorical_data(data):\n",
    "    \"\"\"\n",
    "    Transforms a list of categorical values into numerical representations.\n",
    "\n",
    "    Args:\n",
    "        data (list): The list of categorical values (strings).\n",
    "\n",
    "    Returns:\n",
    "        tuple: A tuple containing:\n",
    "            - transformed_data (list): The transformed list with numerical representations.\n",
    "            - value_to_number (dict): The dictionary mapping original values to numbers.\n",
    "    \"\"\"\n",
    "\n",
    "    # Convert data to NumPy array for efficient operations\n",
    "    data_array = np.array(data)\n",
    "\n",
    "    # Get unique values and their counts\n",
    "    unique_values, counts = np.unique(data_array, return_counts=True)\n",
    "\n",
    "    # Create a dictionary mapping values to numbers (starting from 0)\n",
    "    value_to_number = dict(zip(unique_values, range(len(unique_values))))\n",
    "\n",
    "    # Transform data into numerical representations\n",
    "    transformed_data = [value_to_number[value] for value in data_array]\n",
    "\n",
    "    return transformed_data, value_to_number\n"
   ]
  },
  {
   "cell_type": "code",
   "execution_count": 16,
   "id": "647ce371-e550-4522-b4c1-057977b8667d",
   "metadata": {},
   "outputs": [
    {
     "name": "stdout",
     "output_type": "stream",
     "text": [
      "\n",
      "Dictionary mapping values to numbers:\n",
      "{'Current_Smoker': 0, 'Former': 1, 'Never': 2}\n"
     ]
    }
   ],
   "source": [
    "new_data[:,2], value_to_number2 = transform_categorical_data(new_data[:,2])\n",
    "#print(\"Transformed list (numerical representations):\")\n",
    "#print(new_data[:,2])\n",
    "print(\"\\nDictionary mapping values to numbers:\")\n",
    "print(value_to_number2)"
   ]
  },
  {
   "cell_type": "code",
   "execution_count": 17,
   "id": "fe80a490-c79d-4528-8ef1-a112ddc17e4b",
   "metadata": {},
   "outputs": [
    {
     "name": "stdout",
     "output_type": "stream",
     "text": [
      "\n",
      "Dictionary mapping values to numbers:\n",
      "{'Female': 0, 'Male': 1}\n"
     ]
    }
   ],
   "source": [
    "new_data[:,1], value_to_number1 = transform_categorical_data(new_data[:,1])\n",
    "#print(\"Transformed list (numerical representations):\")\n",
    "#print(new_data[:,2])\n",
    "print(\"\\nDictionary mapping values to numbers:\")\n",
    "print(value_to_number1)"
   ]
  },
  {
   "cell_type": "code",
   "execution_count": 18,
   "id": "3e663144-d3aa-456b-9ae4-89083d92a3f1",
   "metadata": {},
   "outputs": [
    {
     "name": "stdout",
     "output_type": "stream",
     "text": [
      "\n",
      "Dictionary mapping values to numbers:\n",
      "{'No': 0, 'Yes_fairly_often': 1, 'Yes_not_often': 2}\n"
     ]
    }
   ],
   "source": [
    "new_data[:,4], value_to_number2 = transform_categorical_data(new_data[:,4])\n",
    "#print(\"Transformed list (numerical representations):\")\n",
    "#print(new_data[:,2])\n",
    "print(\"\\nDictionary mapping values to numbers:\")\n",
    "print(value_to_number2)"
   ]
  },
  {
   "cell_type": "code",
   "execution_count": 19,
   "id": "057bfd09-2cb4-4fb4-b57f-6db088a5f631",
   "metadata": {},
   "outputs": [],
   "source": [
    "new_datafloat = [[float(info) for info in obtained] for obtained in new_data]"
   ]
  },
  {
   "cell_type": "code",
   "execution_count": 20,
   "id": "e24d859b-5127-42c7-b2a4-5c83bc8eb36c",
   "metadata": {},
   "outputs": [],
   "source": [
    "new_datafloat = np.array(new_datafloat)"
   ]
  },
  {
   "cell_type": "code",
   "execution_count": 21,
   "id": "a74d6aeb-1b9d-46c8-9904-9fa46f51e066",
   "metadata": {},
   "outputs": [
    {
     "data": {
      "text/plain": [
       "(314, 14)"
      ]
     },
     "execution_count": 21,
     "metadata": {},
     "output_type": "execute_result"
    }
   ],
   "source": [
    "new_datafloat.shape"
   ]
  },
  {
   "cell_type": "code",
   "execution_count": 22,
   "id": "e12feda0-e724-440b-8af6-179e4a4b068a",
   "metadata": {
    "scrolled": true
   },
   "outputs": [
    {
     "data": {
      "text/plain": [
       "array([[ 64.,   0.,   1., ..., 890., 200., 915.],\n",
       "       [ 76.,   0.,   2., ..., 451., 124., 727.],\n",
       "       [ 38.,   0.,   1., ..., 660., 328., 721.],\n",
       "       ...,\n",
       "       [ 45.,   0.,   2., ..., 465.,  80., 328.],\n",
       "       [ 49.,   0.,   2., ..., 520., 300., 502.],\n",
       "       [ 31.,   0.,   1., ..., 644., 121., 684.]])"
      ]
     },
     "execution_count": 22,
     "metadata": {},
     "output_type": "execute_result"
    }
   ],
   "source": [
    "new_datafloat"
   ]
  },
  {
   "cell_type": "code",
   "execution_count": 23,
   "id": "f71bbbb9-ce2b-436b-b238-8975151ad46b",
   "metadata": {},
   "outputs": [],
   "source": [
    "columns_extracted = np.array(list(set(columns_extracted)))"
   ]
  },
  {
   "cell_type": "code",
   "execution_count": 24,
   "id": "19bb2179-7572-45e7-8de6-25f133c06498",
   "metadata": {},
   "outputs": [],
   "source": [
    "columns_extracted = [element.split('\"')[0] for element in columns_extracted]"
   ]
  },
  {
   "cell_type": "code",
   "execution_count": 25,
   "id": "9c2ae6ae-d8cc-454f-8c14-6a0b5f1b0348",
   "metadata": {},
   "outputs": [
    {
     "name": "stdout",
     "output_type": "stream",
     "text": [
      "['RETDIET', 'FIBER', 'SMOKSTAT', 'CALORIES', 'ALCOHOL', 'AGE', 'FAT', 'BETAPLASMA', 'VITUSE', 'RETPLASMA', 'BETADIET', 'QUETELET', 'SEX', 'CHOLESTEROL']\n"
     ]
    }
   ],
   "source": [
    "import re\n",
    "\n",
    "def remover_aspas(lista):\n",
    "  \"\"\"\n",
    "  Remove aspas duplas e simples de cada string da lista.\n",
    "\n",
    "  Argumentos:\n",
    "    lista: A lista de strings.\n",
    "\n",
    "  Retorna:\n",
    "    Uma nova lista com as strings sem aspas.\n",
    "  \"\"\"\n",
    "  nova_lista = []\n",
    "  for item in lista:\n",
    "    # Substitui aspas duplas e simples por string vazia\n",
    "    sem_aspas = re.sub(r'[\"\\']', '', item)\n",
    "    nova_lista.append(sem_aspas)\n",
    "  return nova_lista\n",
    "\n",
    "\n",
    "lista_sem_aspas = remover_aspas(columns_extracted)\n",
    "print(lista_sem_aspas)  # Resultado: ['sex', 'trestbps', 'cp', 'fbs', 'thal', 'slope', 'ca', 'oldpeak', 'restecg', 'num', 'chol', 'exang', 'thalach', 'age']\n"
   ]
  },
  {
   "cell_type": "code",
   "execution_count": 26,
   "id": "13add627-813b-49cc-b3ab-21effae7f93a",
   "metadata": {},
   "outputs": [],
   "source": [
    "df= pd.DataFrame(new_datafloat, columns = lista_sem_aspas)"
   ]
  },
  {
   "cell_type": "code",
   "execution_count": 27,
   "id": "8847cc71-73d9-4910-8e91-c4d74df5db26",
   "metadata": {},
   "outputs": [],
   "source": [
    "df = df.rename(columns={'BETAPLASMA':'target'})"
   ]
  },
  {
   "cell_type": "code",
   "execution_count": 29,
   "id": "b83175ea-ac2d-4e9b-8bf6-16a9e80b152b",
   "metadata": {},
   "outputs": [],
   "source": [
    "df_train, df_test = train_test_split(df, test_size=0.33, random_state=42)"
   ]
  },
  {
   "cell_type": "code",
   "execution_count": 30,
   "id": "debba1cd-44cc-42cf-8bab-d4835c2008fb",
   "metadata": {},
   "outputs": [
    {
     "data": {
      "text/plain": [
       "((210, 14), (104, 14))"
      ]
     },
     "execution_count": 30,
     "metadata": {},
     "output_type": "execute_result"
    }
   ],
   "source": [
    "df_train.shape, df_test.shape"
   ]
  },
  {
   "cell_type": "code",
   "execution_count": 31,
   "id": "8b7a5f58-cb8a-4b1b-9dca-859ba86140c1",
   "metadata": {
    "scrolled": true
   },
   "outputs": [
    {
     "data": {
      "text/html": [
       "<div>\n",
       "<style scoped>\n",
       "    .dataframe tbody tr th:only-of-type {\n",
       "        vertical-align: middle;\n",
       "    }\n",
       "\n",
       "    .dataframe tbody tr th {\n",
       "        vertical-align: top;\n",
       "    }\n",
       "\n",
       "    .dataframe thead th {\n",
       "        text-align: right;\n",
       "    }\n",
       "</style>\n",
       "<table border=\"1\" class=\"dataframe\">\n",
       "  <thead>\n",
       "    <tr style=\"text-align: right;\">\n",
       "      <th></th>\n",
       "      <th>RETDIET</th>\n",
       "      <th>FIBER</th>\n",
       "      <th>SMOKSTAT</th>\n",
       "      <th>CALORIES</th>\n",
       "      <th>ALCOHOL</th>\n",
       "      <th>AGE</th>\n",
       "      <th>FAT</th>\n",
       "      <th>target</th>\n",
       "      <th>VITUSE</th>\n",
       "      <th>RETPLASMA</th>\n",
       "      <th>BETADIET</th>\n",
       "      <th>QUETELET</th>\n",
       "      <th>SEX</th>\n",
       "      <th>CHOLESTEROL</th>\n",
       "    </tr>\n",
       "  </thead>\n",
       "  <tbody>\n",
       "    <tr>\n",
       "      <th>0</th>\n",
       "      <td>64.0</td>\n",
       "      <td>0.0</td>\n",
       "      <td>1.0</td>\n",
       "      <td>21.48380</td>\n",
       "      <td>1.0</td>\n",
       "      <td>1298.8</td>\n",
       "      <td>57.0</td>\n",
       "      <td>6.3</td>\n",
       "      <td>0.0</td>\n",
       "      <td>170.3</td>\n",
       "      <td>1945.0</td>\n",
       "      <td>890.0</td>\n",
       "      <td>200.0</td>\n",
       "      <td>915.0</td>\n",
       "    </tr>\n",
       "    <tr>\n",
       "      <th>1</th>\n",
       "      <td>76.0</td>\n",
       "      <td>0.0</td>\n",
       "      <td>2.0</td>\n",
       "      <td>23.87631</td>\n",
       "      <td>1.0</td>\n",
       "      <td>1032.5</td>\n",
       "      <td>50.1</td>\n",
       "      <td>15.8</td>\n",
       "      <td>0.0</td>\n",
       "      <td>75.8</td>\n",
       "      <td>2653.0</td>\n",
       "      <td>451.0</td>\n",
       "      <td>124.0</td>\n",
       "      <td>727.0</td>\n",
       "    </tr>\n",
       "    <tr>\n",
       "      <th>2</th>\n",
       "      <td>38.0</td>\n",
       "      <td>0.0</td>\n",
       "      <td>1.0</td>\n",
       "      <td>20.01080</td>\n",
       "      <td>2.0</td>\n",
       "      <td>2372.3</td>\n",
       "      <td>83.6</td>\n",
       "      <td>19.1</td>\n",
       "      <td>14.1</td>\n",
       "      <td>257.9</td>\n",
       "      <td>6321.0</td>\n",
       "      <td>660.0</td>\n",
       "      <td>328.0</td>\n",
       "      <td>721.0</td>\n",
       "    </tr>\n",
       "    <tr>\n",
       "      <th>3</th>\n",
       "      <td>40.0</td>\n",
       "      <td>0.0</td>\n",
       "      <td>1.0</td>\n",
       "      <td>25.14062</td>\n",
       "      <td>0.0</td>\n",
       "      <td>2449.5</td>\n",
       "      <td>97.5</td>\n",
       "      <td>26.5</td>\n",
       "      <td>0.5</td>\n",
       "      <td>332.6</td>\n",
       "      <td>1061.0</td>\n",
       "      <td>864.0</td>\n",
       "      <td>153.0</td>\n",
       "      <td>615.0</td>\n",
       "    </tr>\n",
       "    <tr>\n",
       "      <th>4</th>\n",
       "      <td>72.0</td>\n",
       "      <td>0.0</td>\n",
       "      <td>2.0</td>\n",
       "      <td>20.98504</td>\n",
       "      <td>1.0</td>\n",
       "      <td>1952.1</td>\n",
       "      <td>82.6</td>\n",
       "      <td>16.2</td>\n",
       "      <td>0.0</td>\n",
       "      <td>170.8</td>\n",
       "      <td>2863.0</td>\n",
       "      <td>1209.0</td>\n",
       "      <td>92.0</td>\n",
       "      <td>799.0</td>\n",
       "    </tr>\n",
       "    <tr>\n",
       "      <th>...</th>\n",
       "      <td>...</td>\n",
       "      <td>...</td>\n",
       "      <td>...</td>\n",
       "      <td>...</td>\n",
       "      <td>...</td>\n",
       "      <td>...</td>\n",
       "      <td>...</td>\n",
       "      <td>...</td>\n",
       "      <td>...</td>\n",
       "      <td>...</td>\n",
       "      <td>...</td>\n",
       "      <td>...</td>\n",
       "      <td>...</td>\n",
       "      <td>...</td>\n",
       "    </tr>\n",
       "    <tr>\n",
       "      <th>309</th>\n",
       "      <td>48.0</td>\n",
       "      <td>0.0</td>\n",
       "      <td>1.0</td>\n",
       "      <td>24.61465</td>\n",
       "      <td>2.0</td>\n",
       "      <td>2021.1</td>\n",
       "      <td>72.2</td>\n",
       "      <td>16.6</td>\n",
       "      <td>9.0</td>\n",
       "      <td>299.1</td>\n",
       "      <td>1392.0</td>\n",
       "      <td>1027.0</td>\n",
       "      <td>144.0</td>\n",
       "      <td>752.0</td>\n",
       "    </tr>\n",
       "    <tr>\n",
       "      <th>310</th>\n",
       "      <td>46.0</td>\n",
       "      <td>0.0</td>\n",
       "      <td>1.0</td>\n",
       "      <td>25.89669</td>\n",
       "      <td>0.0</td>\n",
       "      <td>2263.6</td>\n",
       "      <td>98.2</td>\n",
       "      <td>19.4</td>\n",
       "      <td>2.6</td>\n",
       "      <td>306.5</td>\n",
       "      <td>2572.0</td>\n",
       "      <td>1261.0</td>\n",
       "      <td>164.0</td>\n",
       "      <td>216.0</td>\n",
       "    </tr>\n",
       "    <tr>\n",
       "      <th>311</th>\n",
       "      <td>45.0</td>\n",
       "      <td>0.0</td>\n",
       "      <td>2.0</td>\n",
       "      <td>23.82703</td>\n",
       "      <td>1.0</td>\n",
       "      <td>1841.1</td>\n",
       "      <td>84.2</td>\n",
       "      <td>14.1</td>\n",
       "      <td>2.2</td>\n",
       "      <td>257.7</td>\n",
       "      <td>1665.0</td>\n",
       "      <td>465.0</td>\n",
       "      <td>80.0</td>\n",
       "      <td>328.0</td>\n",
       "    </tr>\n",
       "    <tr>\n",
       "      <th>312</th>\n",
       "      <td>49.0</td>\n",
       "      <td>0.0</td>\n",
       "      <td>2.0</td>\n",
       "      <td>24.26126</td>\n",
       "      <td>1.0</td>\n",
       "      <td>1125.6</td>\n",
       "      <td>44.8</td>\n",
       "      <td>11.9</td>\n",
       "      <td>4.0</td>\n",
       "      <td>150.5</td>\n",
       "      <td>6943.0</td>\n",
       "      <td>520.0</td>\n",
       "      <td>300.0</td>\n",
       "      <td>502.0</td>\n",
       "    </tr>\n",
       "    <tr>\n",
       "      <th>313</th>\n",
       "      <td>31.0</td>\n",
       "      <td>0.0</td>\n",
       "      <td>1.0</td>\n",
       "      <td>23.45255</td>\n",
       "      <td>1.0</td>\n",
       "      <td>2729.6</td>\n",
       "      <td>144.4</td>\n",
       "      <td>13.2</td>\n",
       "      <td>2.2</td>\n",
       "      <td>381.8</td>\n",
       "      <td>741.0</td>\n",
       "      <td>644.0</td>\n",
       "      <td>121.0</td>\n",
       "      <td>684.0</td>\n",
       "    </tr>\n",
       "  </tbody>\n",
       "</table>\n",
       "<p>314 rows × 14 columns</p>\n",
       "</div>"
      ],
      "text/plain": [
       "     RETDIET  FIBER  SMOKSTAT  CALORIES  ALCOHOL     AGE    FAT  target  \\\n",
       "0       64.0    0.0       1.0  21.48380      1.0  1298.8   57.0     6.3   \n",
       "1       76.0    0.0       2.0  23.87631      1.0  1032.5   50.1    15.8   \n",
       "2       38.0    0.0       1.0  20.01080      2.0  2372.3   83.6    19.1   \n",
       "3       40.0    0.0       1.0  25.14062      0.0  2449.5   97.5    26.5   \n",
       "4       72.0    0.0       2.0  20.98504      1.0  1952.1   82.6    16.2   \n",
       "..       ...    ...       ...       ...      ...     ...    ...     ...   \n",
       "309     48.0    0.0       1.0  24.61465      2.0  2021.1   72.2    16.6   \n",
       "310     46.0    0.0       1.0  25.89669      0.0  2263.6   98.2    19.4   \n",
       "311     45.0    0.0       2.0  23.82703      1.0  1841.1   84.2    14.1   \n",
       "312     49.0    0.0       2.0  24.26126      1.0  1125.6   44.8    11.9   \n",
       "313     31.0    0.0       1.0  23.45255      1.0  2729.6  144.4    13.2   \n",
       "\n",
       "     VITUSE  RETPLASMA  BETADIET  QUETELET    SEX  CHOLESTEROL  \n",
       "0       0.0      170.3    1945.0     890.0  200.0        915.0  \n",
       "1       0.0       75.8    2653.0     451.0  124.0        727.0  \n",
       "2      14.1      257.9    6321.0     660.0  328.0        721.0  \n",
       "3       0.5      332.6    1061.0     864.0  153.0        615.0  \n",
       "4       0.0      170.8    2863.0    1209.0   92.0        799.0  \n",
       "..      ...        ...       ...       ...    ...          ...  \n",
       "309     9.0      299.1    1392.0    1027.0  144.0        752.0  \n",
       "310     2.6      306.5    2572.0    1261.0  164.0        216.0  \n",
       "311     2.2      257.7    1665.0     465.0   80.0        328.0  \n",
       "312     4.0      150.5    6943.0     520.0  300.0        502.0  \n",
       "313     2.2      381.8     741.0     644.0  121.0        684.0  \n",
       "\n",
       "[314 rows x 14 columns]"
      ]
     },
     "execution_count": 31,
     "metadata": {},
     "output_type": "execute_result"
    }
   ],
   "source": [
    "df"
   ]
  },
  {
   "cell_type": "code",
   "execution_count": 32,
   "id": "7804897f-8a5a-4568-a55e-60f2b85b8492",
   "metadata": {},
   "outputs": [],
   "source": [
    "df_train.to_csv(os.path.join(name2save, 'plasma_train.csv'))"
   ]
  },
  {
   "cell_type": "code",
   "execution_count": 33,
   "id": "a8b264a9-5830-4ebd-bf30-f241e7cf965e",
   "metadata": {},
   "outputs": [],
   "source": [
    "df_test.to_csv(os.path.join(name2save, 'plasma_test.csv'))"
   ]
  },
  {
   "cell_type": "code",
   "execution_count": null,
   "id": "fe68909b-a3dd-44a5-8cc2-2e3c5748dd61",
   "metadata": {},
   "outputs": [],
   "source": []
  }
 ],
 "metadata": {
  "kernelspec": {
   "display_name": "Python 3 (ipykernel)",
   "language": "python",
   "name": "python3"
  },
  "language_info": {
   "codemirror_mode": {
    "name": "ipython",
    "version": 3
   },
   "file_extension": ".py",
   "mimetype": "text/x-python",
   "name": "python",
   "nbconvert_exporter": "python",
   "pygments_lexer": "ipython3",
   "version": "3.11.7"
  }
 },
 "nbformat": 4,
 "nbformat_minor": 5
}
