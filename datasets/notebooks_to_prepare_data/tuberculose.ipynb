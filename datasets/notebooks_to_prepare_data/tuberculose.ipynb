{
 "cells": [
  {
   "cell_type": "code",
   "execution_count": 1,
   "id": "3637ba21-96cb-4f3f-a692-c89062a5da38",
   "metadata": {},
   "outputs": [],
   "source": [
    "import pandas as pd\n",
    "import numpy as np\n",
    "import os\n",
    "from sklearn.model_selection import train_test_split"
   ]
  },
  {
   "cell_type": "code",
   "execution_count": null,
   "id": "11738238-6d1f-4efd-9bf4-a0b612528604",
   "metadata": {},
   "outputs": [],
   "source": [
    "dir2save = 'path/datasets/'"
   ]
  },
  {
   "cell_type": "code",
   "execution_count": null,
   "id": "f68ae434-dc8e-4f56-bd0a-e4c61fe1b43c",
   "metadata": {},
   "outputs": [],
   "source": [
    "dir2read ='path/datasets/originals'"
   ]
  },
  {
   "cell_type": "code",
   "execution_count": 3,
   "id": "70de3a5a-b47a-45ff-90fe-6c6f90a5c651",
   "metadata": {},
   "outputs": [],
   "source": [
    "name2save= os.path.join(dir2save, 'prepared/tuberculose')"
   ]
  },
  {
   "cell_type": "code",
   "execution_count": 4,
   "id": "d8fa43eb-00f0-4777-9d1d-2680917e0627",
   "metadata": {},
   "outputs": [],
   "source": [
    "os.makedirs(name2save, exist_ok=True)"
   ]
  },
  {
   "cell_type": "code",
   "execution_count": 10,
   "id": "1270af10-ea6f-4237-b130-71db875c2a56",
   "metadata": {},
   "outputs": [
    {
     "name": "stderr",
     "output_type": "stream",
     "text": [
      "/tmp/ipykernel_435628/1670697191.py:1: DtypeWarning: Columns (13) have mixed types. Specify dtype option on import or set low_memory=False.\n",
      "  data = pd.read_csv(dir2read+'dados_tuberculose.csv',sep=';')\n"
     ]
    }
   ],
   "source": [
    "data = pd.read_csv(dir2read+'dados_tuberculose.csv',sep=';')"
   ]
  },
  {
   "cell_type": "code",
   "execution_count": 13,
   "id": "3f672f7c-1d68-48e8-9723-85174a643dac",
   "metadata": {},
   "outputs": [
    {
     "data": {
      "text/plain": [
       "0        Extrapulmonar\n",
       "1             Pulmonar\n",
       "2             Pulmonar\n",
       "3        Extrapulmonar\n",
       "4             Pulmonar\n",
       "             ...      \n",
       "66621         Pulmonar\n",
       "66622         Pulmonar\n",
       "66623         Pulmonar\n",
       "66624         Pulmonar\n",
       "66625         Pulmonar\n",
       "Name: FORMA, Length: 66626, dtype: object"
      ]
     },
     "execution_count": 13,
     "metadata": {},
     "output_type": "execute_result"
    }
   ],
   "source": [
    "data['FORMA']"
   ]
  }
 ],
 "metadata": {
  "kernelspec": {
   "display_name": "Python 3 (ipykernel)",
   "language": "python",
   "name": "python3"
  },
  "language_info": {
   "codemirror_mode": {
    "name": "ipython",
    "version": 3
   },
   "file_extension": ".py",
   "mimetype": "text/x-python",
   "name": "python",
   "nbconvert_exporter": "python",
   "pygments_lexer": "ipython3",
   "version": "3.11.7"
  }
 },
 "nbformat": 4,
 "nbformat_minor": 5
}
